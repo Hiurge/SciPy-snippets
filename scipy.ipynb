{
 "cells": [
  {
   "cell_type": "markdown",
   "metadata": {
    "collapsed": true
   },
   "source": [
    "# SciPy\n",
    "\n",
    "###### 1. Interacting with NumPy\n",
    "###### 2. Linear algebra"
   ]
  },
  {
   "cell_type": "code",
   "execution_count": null,
   "metadata": {},
   "outputs": [],
   "source": [
    "# from scipy import linalg, sparse\n",
    "import scipy\n",
    "import numpy as np\n",
    "\n",
    "help(scipy.linalg.diagsvd)  # Asking For Help\n",
    "np.info(np.matrix)          # Asking For Help"
   ]
  },
  {
   "cell_type": "markdown",
   "metadata": {},
   "source": [
    "# 1. Interacting With NumPy"
   ]
  },
  {
   "cell_type": "code",
   "execution_count": null,
   "metadata": {
    "collapsed": true
   },
   "outputs": [],
   "source": [
    "import numpy as np\n",
    "\n",
    "a = np.array([1,2,3])\n",
    "b = np.array([(1+5j,2j,3j), (4j,5j,6j)])\n",
    "c = np.array([[(1.5,2,3), (4,5,6)], [(3,2,1), (4,5,6)]])"
   ]
  },
  {
   "cell_type": "markdown",
   "metadata": {},
   "source": [
    "### Index Tricks"
   ]
  },
  {
   "cell_type": "code",
   "execution_count": null,
   "metadata": {},
   "outputs": [],
   "source": [
    "np.mgrid[0:5,0:5]          # Create a dense meshgrid 5x5 0-5 values\n",
    "np.ogrid[0:2,0:2]          # Create an open meshgrid\n",
    "np.r_[[3,[0]*5,-1:1:10j]   # Stack arrays vertically (row-wise) ????\n",
    "np.c_[b,c]                 # Create stacked column-wise arrays"
   ]
  },
  {
   "cell_type": "markdown",
   "metadata": {},
   "source": [
    "### Shape Manipulation"
   ]
  },
  {
   "cell_type": "code",
   "execution_count": null,
   "metadata": {
    "collapsed": true
   },
   "outputs": [],
   "source": [
    "np.transpose(b)            # Permute array dimensions\n",
    "b.flatten()                # Flatten the array\n",
    "np.hstack((b,c))           # Stack arrays horizontally (column-wise)\n",
    "np.vstack((a,b))           # Stack arrays vertically (row-wise)\n",
    "np.hsplit(c,2)             # Split the array horizontally at the 2nd index\n",
    "np.vpslit(d,2)             # Split the array vertically at the 2nd index"
   ]
  },
  {
   "cell_type": "markdown",
   "metadata": {},
   "source": [
    "### Polynomials"
   ]
  },
  {
   "cell_type": "code",
   "execution_count": 145,
   "metadata": {},
   "outputs": [],
   "source": [
    "from numpy import poly1d\n",
    "p = poly1d([3,4,5])        # Create a polynomial object"
   ]
  },
  {
   "cell_type": "markdown",
   "metadata": {},
   "source": [
    "### Vectorizing Functions"
   ]
  },
  {
   "cell_type": "code",
   "execution_count": 151,
   "metadata": {},
   "outputs": [
    {
     "data": {
      "text/plain": [
       "<numpy.lib.function_base.vectorize at 0x7f06f8052128>"
      ]
     },
     "execution_count": 151,
     "metadata": {},
     "output_type": "execute_result"
    }
   ],
   "source": [
    "def myfunc(a):\n",
    "    if a < 0:\n",
    "        return a*2\n",
    "    else:\n",
    "        return a/2\n",
    "    \n",
    "np.vectorize(myfunc)"
   ]
  },
  {
   "cell_type": "markdown",
   "metadata": {},
   "source": [
    "### Type Handling"
   ]
  },
  {
   "cell_type": "code",
   "execution_count": null,
   "metadata": {
    "collapsed": true
   },
   "outputs": [],
   "source": [
    "np.real(c)                    # Return the real part of the array elements\n",
    "np.imag(c)                    # Return the imaginary part of the array elements\n",
    "np.real_if_close(c,tol=1000)  # Return a real array if complex parts close to 0\n",
    "np.cast['f'](np.pi)           # Cast object to a data type"
   ]
  },
  {
   "cell_type": "markdown",
   "metadata": {},
   "source": [
    "### Other Useful Functions"
   ]
  },
  {
   "cell_type": "code",
   "execution_count": null,
   "metadata": {
    "collapsed": true
   },
   "outputs": [],
   "source": [
    "np.angle(b,deg=True)               # Return the angle of the complex argument\n",
    "g = np.linspace(0,np.pi,num=5)     # Create an array of evenly spaced values (log scale)\n",
    "g [3:] += np.pi                    # ?\n",
    "np.unwrap(g)                       # Unwrap\n",
    "np.logspace(0,10,3)                # Create an array of evenly spaced values (log scale)\n",
    "np.select([c<4],[c*2])             # Return values from a list of arrays depending on conditions\n",
    "misc.factorial(a)                  # Factorial\n",
    "misc.comb(10,3,exact=True)         # Combine N things taken at k time\n",
    "misc.central_diff_weights(3)       # Weights for Np-point central derivative\n",
    "misc.derivative(myfunc,1.0)        # Find the n-th derivative of a function at a point"
   ]
  },
  {
   "cell_type": "markdown",
   "metadata": {},
   "source": [
    "# 2. Linear Algebra"
   ]
  },
  {
   "cell_type": "markdown",
   "metadata": {},
   "source": [
    "### Creating Matrices"
   ]
  },
  {
   "cell_type": "code",
   "execution_count": 235,
   "metadata": {},
   "outputs": [
    {
     "name": "stdout",
     "output_type": "stream",
     "text": [
      "[[ 0.10677329  0.53457286]\n",
      " [ 0.45805979  0.28209882]]\n",
      "[[ 4  8  4]\n",
      " [ 8 12 16]\n",
      " [16 12  8]]\n",
      "[[ 0.18954053  0.80058475  0.12982368  0.25933098  0.27671746]\n",
      " [ 0.77678782  0.37236151  0.87351839  0.28564743  0.16935857]\n",
      " [ 0.79576032  0.23486282  0.60165423  0.8459612   0.51335859]\n",
      " [ 0.03565535  0.40095014  0.94799811  0.74718507  0.99615887]\n",
      " [ 0.52747965  0.53135385  0.11024549  0.98614772  0.42127892]\n",
      " [ 0.04731574  0.13592969  0.76467734  0.29609281  0.42605445]\n",
      " [ 0.250335    0.17151121  0.84690327  0.9110324   0.23805794]\n",
      " [ 0.82237441  0.61236111  0.44538652  0.5610266   0.7948872 ]\n",
      " [ 0.86832619  0.32145005  0.17504379  0.25419191  0.20195734]\n",
      " [ 0.37371748  0.01786672  0.27782123  0.91079309  0.91007485]]\n",
      "[[3 4]\n",
      " [5 6]]\n"
     ]
    }
   ],
   "source": [
    "A = np.matrix(np.random.random((2,2)))\n",
    "B = np.asmatrix(a)\n",
    "C = np.mat(np.random.random((10,5)))\n",
    "D = np.mat([[3,4], [5,6]])\n",
    "\n",
    "print(A)\n",
    "print(B)\n",
    "print(C)\n",
    "print(D)\n"
   ]
  },
  {
   "cell_type": "markdown",
   "metadata": {},
   "source": [
    "### Basic Matrix Routines"
   ]
  },
  {
   "cell_type": "markdown",
   "metadata": {},
   "source": [
    "##### Inverse"
   ]
  },
  {
   "cell_type": "code",
   "execution_count": 242,
   "metadata": {},
   "outputs": [
    {
     "name": "stdout",
     "output_type": "stream",
     "text": [
      "[[ 0.10677329  0.53457286]\n",
      " [ 0.45805979  0.28209882]]\n",
      "[[-1.31364121  2.48932961]\n",
      " [ 2.13303346 -0.49720803]]\n",
      "[[-1.31364121  2.48932961]\n",
      " [ 2.13303346 -0.49720803]]\n",
      "[[ 0.10677329  0.45805979]\n",
      " [ 0.53457286  0.28209882]]\n",
      "[[ 0.10677329  0.45805979]\n",
      " [ 0.53457286  0.28209882]]\n",
      "0.388872109237\n"
     ]
    }
   ],
   "source": [
    "A.I                # Inverse\n",
    "linalg.inv(A)      # Inverse\n",
    "A.T                # Tranpose matrix\n",
    "A.H                # Conjugate transposition\n",
    "np.trace(A)        # Trace\n",
    "\n",
    "print(A)\n",
    "print(A.I)\n",
    "print(linalg.inv(A))\n",
    "print(A.T)\n",
    "print(A.H)\n",
    "print(np.trace(A))"
   ]
  },
  {
   "cell_type": "markdown",
   "metadata": {},
   "source": [
    "##### Norm"
   ]
  },
  {
   "cell_type": "code",
   "execution_count": null,
   "metadata": {
    "collapsed": true
   },
   "outputs": [],
   "source": [
    "linalg.norm(A)          # Frobenius norm\n",
    "linalg.norm(A,1)        # L1 norm (max column sum)\n",
    "linalg.norm(A,np.inf)   # L inf norm (max row sum)"
   ]
  },
  {
   "cell_type": "markdown",
   "metadata": {},
   "source": [
    "##### Rank"
   ]
  },
  {
   "cell_type": "code",
   "execution_count": null,
   "metadata": {
    "collapsed": true
   },
   "outputs": [],
   "source": [
    "np.linalg.matrix_rank(C)    # Matrix rank"
   ]
  },
  {
   "cell_type": "markdown",
   "metadata": {},
   "source": [
    "##### Determinant"
   ]
  },
  {
   "cell_type": "code",
   "execution_count": null,
   "metadata": {
    "collapsed": true
   },
   "outputs": [],
   "source": [
    "inalg.det(A)                # Determinant"
   ]
  },
  {
   "cell_type": "markdown",
   "metadata": {},
   "source": [
    "##### Solving linear problems"
   ]
  },
  {
   "cell_type": "code",
   "execution_count": null,
   "metadata": {
    "collapsed": true
   },
   "outputs": [],
   "source": [
    "linalg.solve(A,b)          # Solver for dense matrices\n",
    "E = np.mat(a).T            # Solver for dense matrices\n",
    "linalg.lstsq(D,E)          # Solver for dense matrices equation"
   ]
  },
  {
   "cell_type": "markdown",
   "metadata": {},
   "source": [
    "##### Generalized inverse"
   ]
  },
  {
   "cell_type": "code",
   "execution_count": null,
   "metadata": {
    "collapsed": true
   },
   "outputs": [],
   "source": [
    "linalg.pinv(C)      # Compute the pseudo-inverse of a matrix (least-squares solver)\n",
    "linalg.pinv2(C)     # Compute the pseudo-inverse of a matrix (SVD)"
   ]
  },
  {
   "cell_type": "markdown",
   "metadata": {},
   "source": [
    "### Creating Sparse Matrices"
   ]
  },
  {
   "cell_type": "code",
   "execution_count": null,
   "metadata": {
    "collapsed": true
   },
   "outputs": [],
   "source": [
    "F = np.eye(3, k=1)          # Create a 2X2 identity matrix\n",
    "G = np.mat(np.identity(2))  # Create a 2x2 identity matrix\n",
    "C[C > 0.5] = 0              # bez opisu\n",
    "H = sparse.csr_matrix(C)    # Compressed Sparse Row matrix\n",
    "I = sparse.csc_matrix(D)    # Compressed Sparse Column matrix\n",
    "J = sparse.dok_matrix(A)    # Dictionary Of Keys matrix\n",
    "E.todense()                 # Sparse matrix to full matrix\n",
    "sparse.isspmatrix_csc(A)    # Identify sparse matrix\n",
    "\n",
    "\n",
    "\n",
    "\n",
    "\n",
    "\n"
   ]
  },
  {
   "cell_type": "markdown",
   "metadata": {},
   "source": [
    "### Sparse Matrix Routines"
   ]
  },
  {
   "cell_type": "code",
   "execution_count": null,
   "metadata": {
    "collapsed": true
   },
   "outputs": [],
   "source": [
    "sparse.linalg.inv(I)         # Inverse\n",
    "sparse.linalg.norm(I)        # Norm\n",
    "sparse.linalg.spsolve(H,I)   # Solver for sparse matrices"
   ]
  },
  {
   "cell_type": "markdown",
   "metadata": {},
   "source": [
    "### Sparse Matrix Functions"
   ]
  },
  {
   "cell_type": "code",
   "execution_count": null,
   "metadata": {
    "collapsed": true
   },
   "outputs": [],
   "source": [
    "sparse.linalg.expm(I)        # Sparse matrix exponential"
   ]
  },
  {
   "cell_type": "markdown",
   "metadata": {},
   "source": [
    "### Matrix Functions"
   ]
  },
  {
   "cell_type": "markdown",
   "metadata": {},
   "source": [
    "##### Addition"
   ]
  },
  {
   "cell_type": "code",
   "execution_count": null,
   "metadata": {
    "collapsed": true
   },
   "outputs": [],
   "source": [
    "np.add(A,D)"
   ]
  },
  {
   "cell_type": "markdown",
   "metadata": {},
   "source": [
    "##### Subtraction"
   ]
  },
  {
   "cell_type": "code",
   "execution_count": null,
   "metadata": {
    "collapsed": true
   },
   "outputs": [],
   "source": [
    "np.subtract(A,D)"
   ]
  },
  {
   "cell_type": "markdown",
   "metadata": {},
   "source": [
    "##### Division"
   ]
  },
  {
   "cell_type": "code",
   "execution_count": null,
   "metadata": {
    "collapsed": true
   },
   "outputs": [],
   "source": [
    "np.divide(A,D)"
   ]
  },
  {
   "cell_type": "markdown",
   "metadata": {},
   "source": [
    "##### Multiplication"
   ]
  },
  {
   "cell_type": "code",
   "execution_count": null,
   "metadata": {
    "collapsed": true
   },
   "outputs": [],
   "source": [
    "np.multiply(D,A)          # Multiplication\n",
    "np.dot(A,D)               # Dot product\n",
    "np.vdot(A,D)              # Vector dot product\n",
    "np.inner(A,D)             # Inner product\n",
    "np.outer(A,D)             # Outer product\n",
    "np.tensordot(A,D)         # Tensor dot product\n",
    "np.kron(A,D)              # Kronecker product"
   ]
  },
  {
   "cell_type": "markdown",
   "metadata": {},
   "source": [
    "##### Exponential Functions"
   ]
  },
  {
   "cell_type": "code",
   "execution_count": null,
   "metadata": {
    "collapsed": true
   },
   "outputs": [],
   "source": [
    "linalg.expm(A)       # Matrix exponential\n",
    "linalg.expm2(A)      # Matrix exponential (Taylor Series)\n",
    "linalg.expm3(D)      # Matrix exponential (eigenvalue decomposition)"
   ]
  },
  {
   "cell_type": "markdown",
   "metadata": {},
   "source": [
    "##### Logarithm Function"
   ]
  },
  {
   "cell_type": "code",
   "execution_count": null,
   "metadata": {
    "collapsed": true
   },
   "outputs": [],
   "source": [
    "linalg.logm(A)       # Matrix logarithm"
   ]
  },
  {
   "cell_type": "markdown",
   "metadata": {},
   "source": [
    "##### Trigonometric Tunctions"
   ]
  },
  {
   "cell_type": "code",
   "execution_count": null,
   "metadata": {
    "collapsed": true
   },
   "outputs": [],
   "source": [
    "linalg.sinm(D)      # Hypberbolic matrix sine\n",
    "linalg.cosm(D)      # Hyperbolic matrix cosine\n",
    "linalg.tanm(A)      # Hyperbolic matrix tangent"
   ]
  },
  {
   "cell_type": "markdown",
   "metadata": {},
   "source": [
    "##### Hyperbolic Trigonometric Functions"
   ]
  },
  {
   "cell_type": "code",
   "execution_count": null,
   "metadata": {
    "collapsed": true
   },
   "outputs": [],
   "source": [
    "np.sigm(A)          # Matrix sign function"
   ]
  },
  {
   "cell_type": "markdown",
   "metadata": {},
   "source": [
    "##### Matrix Sign Function"
   ]
  },
  {
   "cell_type": "code",
   "execution_count": null,
   "metadata": {
    "collapsed": true
   },
   "outputs": [],
   "source": [
    "linalg.sqrtm(A)     # Matrix square root"
   ]
  },
  {
   "cell_type": "markdown",
   "metadata": {},
   "source": [
    "##### Matrix Square Root"
   ]
  },
  {
   "cell_type": "code",
   "execution_count": null,
   "metadata": {
    "collapsed": true
   },
   "outputs": [],
   "source": [
    "linalg.sqrtm(A)     # Matrix square root"
   ]
  },
  {
   "cell_type": "markdown",
   "metadata": {
    "collapsed": true
   },
   "source": [
    "##### Arbitrary Functions"
   ]
  },
  {
   "cell_type": "code",
   "execution_count": null,
   "metadata": {
    "collapsed": true
   },
   "outputs": [],
   "source": [
    "linalg.funm(A, lambda x: x*x)    # Evaluate matrix function"
   ]
  },
  {
   "cell_type": "markdown",
   "metadata": {},
   "source": [
    "### Decompositions"
   ]
  },
  {
   "cell_type": "markdown",
   "metadata": {
    "collapsed": true
   },
   "source": [
    "##### Eigenvalues and Eigenvectors"
   ]
  },
  {
   "cell_type": "code",
   "execution_count": null,
   "metadata": {
    "collapsed": true
   },
   "outputs": [],
   "source": [
    "la, v = linalg.eig(A)    # Solve ordinary or generalized eigenvalue problem for square matrix\n",
    "l1, l2 = la              # Unpack eigenvalues \n",
    "v[:,0]                   # First eigenvector\n",
    "v[:,1]                   # Second eigenvector\n",
    "linalg.eigvals(A)        # Unpack eigenvalues"
   ]
  },
  {
   "cell_type": "markdown",
   "metadata": {
    "collapsed": true
   },
   "source": [
    "##### Singular Value Decomposition"
   ]
  },
  {
   "cell_type": "code",
   "execution_count": null,
   "metadata": {
    "collapsed": true
   },
   "outputs": [],
   "source": [
    "U,s,Vh = linalg.svd(B)          # Singular Value Decomposition (SVD)\n",
    "M,N = B.shape                   # bez opisu\n",
    "Sig = linalg.diagsvd(s,M,N)     # Construct sigma matrix in SVD\n"
   ]
  },
  {
   "cell_type": "markdown",
   "metadata": {
    "collapsed": true
   },
   "source": [
    "##### LU Decomposition"
   ]
  },
  {
   "cell_type": "code",
   "execution_count": null,
   "metadata": {
    "collapsed": true
   },
   "outputs": [],
   "source": [
    "P,L,U = linalg.lu(C)"
   ]
  },
  {
   "cell_type": "markdown",
   "metadata": {},
   "source": [
    "### Sparse Matrix Decompositions"
   ]
  },
  {
   "cell_type": "code",
   "execution_count": null,
   "metadata": {
    "collapsed": true
   },
   "outputs": [],
   "source": [
    "la, v = sparse.linalg.eigs(F,1)   # ?\n",
    "parse.linalg.svds(H, 2)           # Eigenvalues and eigenvectors SVD"
   ]
  }
 ],
 "metadata": {
  "kernelspec": {
   "display_name": "Python 3",
   "language": "python",
   "name": "python3"
  },
  "language_info": {
   "codemirror_mode": {
    "name": "ipython",
    "version": 3
   },
   "file_extension": ".py",
   "mimetype": "text/x-python",
   "name": "python",
   "nbconvert_exporter": "python",
   "pygments_lexer": "ipython3",
   "version": "3.6.2"
  }
 },
 "nbformat": 4,
 "nbformat_minor": 2
}
